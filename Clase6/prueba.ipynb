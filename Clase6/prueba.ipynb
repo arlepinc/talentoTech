{
 "cells": [
  {
   "cell_type": "code",
   "execution_count": 10,
   "metadata": {},
   "outputs": [],
   "source": [
    "import numpy as np #importar libreria numpy para arrays\n",
    "\n",
    "\n",
    "#array cuyos valores son 0s\n",
    "\n",
    "# a = np.zeros((2,4)) #el primer parametro es el # de filas y el segundo corrresponde a columnas\n",
    "# a\n",
    "\n",
    "# a.shape \n",
    "# a.ndim #dimensiones\n",
    "# a.size #numero de elementos del array\n",
    "\n"
   ]
  },
  {
   "cell_type": "code",
   "execution_count": 41,
   "metadata": {},
   "outputs": [
    {
     "data": {
      "text/plain": [
       "array([[[1., 1., 1., 1.],\n",
       "        [1., 1., 1., 1.],\n",
       "        [1., 1., 1., 1.]],\n",
       "\n",
       "       [[1., 1., 1., 1.],\n",
       "        [1., 1., 1., 1.],\n",
       "        [1., 1., 1., 1.]]])"
      ]
     },
     "execution_count": 41,
     "metadata": {},
     "output_type": "execute_result"
    }
   ],
   "source": [
    "import numpy as np #importar libreria numpy para arrays\n",
    "\n",
    "#ARRAY con 0s\n",
    "\n",
    "np.zeros((2,3,4))\n",
    "\n",
    "#ARRAY con 1s\n",
    "\n",
    "np.ones((2,3,4,))"
   ]
  },
  {
   "cell_type": "code",
   "execution_count": 40,
   "metadata": {},
   "outputs": [
    {
     "data": {
      "text/plain": [
       "array([[[ 1.69119330e-306,  1.29062229e-306,  1.24610383e-306,\n",
       "          3.17320232e-317,  1.39837690e-076, -6.04894340e-311,\n",
       "          6.23042070e-307,  4.67296746e-307,  1.69121096e-306],\n",
       "        [ 8.01092457e-307,  1.11262351e-307,  1.69118787e-306,\n",
       "          1.89146896e-307,  7.56571288e-307,  3.11525958e-307,\n",
       "          1.24610723e-306,  1.37962320e-306,  1.29060871e-306],\n",
       "        [ 2.22518251e-306,  1.33511969e-306,  1.78022342e-306,\n",
       "          1.05700345e-307,  3.11525958e-307,  1.69118108e-306,\n",
       "          8.06632139e-308,  1.20160711e-306,  1.69119330e-306]],\n",
       "\n",
       "       [[ 1.29062229e-306,  9.79094971e-307,  1.11253693e-306,\n",
       "          3.33510022e-317, -6.52002481e-311,  6.23042070e-307,\n",
       "          4.67296746e-307,  1.69121096e-306,  8.01092457e-307],\n",
       "        [ 1.11262351e-307,  1.69118787e-306,  1.89146896e-307,\n",
       "          7.56571288e-307,  3.11525958e-307,  1.24610723e-306,\n",
       "          1.37962320e-306,  1.29060871e-306,  2.22518251e-306],\n",
       "        [ 1.33511969e-306,  1.78022342e-306,  1.05700345e-307,\n",
       "          3.11525958e-307,  1.69118108e-306,  8.06632139e-308,\n",
       "          1.20160711e-306,  1.69119330e-306,  1.29062229e-306]]])"
      ]
     },
     "execution_count": 40,
     "metadata": {},
     "output_type": "execute_result"
    }
   ],
   "source": [
    "#ARRAY con valores de memoria del PC\n",
    "\n",
    "np.empty((2,3,9))"
   ]
  },
  {
   "cell_type": "code",
   "execution_count": 10,
   "metadata": {},
   "outputs": [
    {
     "data": {
      "text/plain": [
       "(2, 3)"
      ]
     },
     "execution_count": 10,
     "metadata": {},
     "output_type": "execute_result"
    }
   ],
   "source": [
    "#ARRAY con lista de PYTHON (trabajar con matrices)\n",
    "\n",
    "b = np.array(([1,2,3],[4,5,6]))\n",
    "b\n",
    "b.shape"
   ]
  },
  {
   "cell_type": "code",
   "execution_count": 9,
   "metadata": {},
   "outputs": [
    {
     "name": "stdout",
     "output_type": "stream",
     "text": [
      "[0.         0.66666667 1.33333333 2.         2.66666667 3.33333333\n",
      " 4.         4.66666667 5.33333333 6.        ]\n"
     ]
    }
   ],
   "source": [
    "#ARRAY con la funcion de rangos de python\n",
    "\n",
    "print(np.linspace(0,6,10)) #permite usar una funcion (min, max y n elementos)"
   ]
  },
  {
   "cell_type": "code",
   "execution_count": 28,
   "metadata": {},
   "outputs": [
    {
     "data": {
      "text/plain": [
       "array([[[-1.26239006,  1.30528136, -0.47741665,  0.67994204],\n",
       "        [ 1.34504535, -1.58227345,  0.10381786,  0.27295743],\n",
       "        [ 0.99591346,  0.36913321,  0.44680435, -1.26796478]],\n",
       "\n",
       "       [[-0.28173099, -0.1655021 , -1.18122399,  0.43244942],\n",
       "        [-0.55843804,  0.27714848, -0.60417198, -0.54864066],\n",
       "        [ 0.20461599,  0.0651268 ,  0.03046213, -0.88235079]]])"
      ]
     },
     "execution_count": 28,
     "metadata": {},
     "output_type": "execute_result"
    }
   ],
   "source": [
    "#ARRAY con valores aleatoreos\n",
    "\n",
    "np.random.randn(2,3,4)"
   ]
  },
  {
   "cell_type": "code",
   "execution_count": 39,
   "metadata": {},
   "outputs": [
    {
     "data": {
      "text/plain": [
       "array([[-1.34164003, -0.01889207, -0.27239642, -0.18218002],\n",
       "       [ 0.2779261 ,  0.00315149, -0.05918792, -2.38289803]])"
      ]
     },
     "execution_count": 39,
     "metadata": {},
     "output_type": "execute_result"
    }
   ],
   "source": [
    "np.random.randn(2,4)"
   ]
  },
  {
   "cell_type": "code",
   "execution_count": 11,
   "metadata": {},
   "outputs": [
    {
     "data": {
      "image/png": "[encoded data removed]",
      "text/plain": [
       "<Figure size 640x480 with 1 Axes>"
      ]
     },
     "metadata": {},
     "output_type": "display_data"
    }
   ],
   "source": [
    "import matplotlib.pyplot as plt #importar libreria matplotlib para generar graficas\n",
    "\n",
    "\n",
    "c = np.random.randn(1000000)\n",
    "\n",
    "\n",
    "plt.hist(c,bins=200)\n",
    "plt.show()"
   ]
  },
  {
   "cell_type": "code",
   "execution_count": 45,
   "metadata": {},
   "outputs": [
    {
     "name": "stdout",
     "output_type": "stream",
     "text": [
      "shape (6,)\n",
      "Array Unidimensional [ 1  3  5  7  9 11]\n"
     ]
    }
   ],
   "source": [
    "#ARRAY de una sola dimension\n",
    "\n",
    "array_uni = np.array([1,3,5,7,9,11])\n",
    "print(\"shape\", array_uni.shape)\n",
    "print(\"Array Unidimensional\", array_uni)"
   ]
  },
  {
   "cell_type": "code",
   "execution_count": 46,
   "metadata": {},
   "outputs": [
    {
     "name": "stdout",
     "output_type": "stream",
     "text": [
      "9\n"
     ]
    }
   ],
   "source": [
    "print(array_uni[4])"
   ]
  },
  {
   "cell_type": "code",
   "execution_count": 54,
   "metadata": {},
   "outputs": [
    {
     "name": "stdout",
     "output_type": "stream",
     "text": [
      "[5 7]\n"
     ]
    }
   ],
   "source": [
    "print(array_uni[2:4])"
   ]
  },
  {
   "cell_type": "code",
   "execution_count": 55,
   "metadata": {},
   "outputs": [
    {
     "name": "stdout",
     "output_type": "stream",
     "text": [
      "[1, 2]\n",
      "[3, 4, 5, 6]\n"
     ]
    }
   ],
   "source": [
    "l = [1, 2, 3, 4, 5, 6]\n",
    "print(l[0:2]) #[1, 2]\n",
    "print(l[2:6]) #[3, 4, 5, 6]"
   ]
  },
  {
   "cell_type": "code",
   "execution_count": 14,
   "metadata": {},
   "outputs": [
    {
     "name": "stdout",
     "output_type": "stream",
     "text": [
      "SHAPE:  (2, 4)\n",
      "[[1 2 3 4]\n",
      " [5 6 7 8]]\n"
     ]
    }
   ],
   "source": [
    "#ARRAY multidimensional\n",
    "\n",
    "array_mult = np.array(([1,2,3,4],[5,6,7,8]))\n",
    "print(\"SHAPE: \" ,array_mult.shape)\n",
    "print(array_mult)"
   ]
  },
  {
   "cell_type": "code",
   "execution_count": 19,
   "metadata": {},
   "outputs": [
    {
     "name": "stdout",
     "output_type": "stream",
     "text": [
      "4\n"
     ]
    },
    {
     "data": {
      "text/plain": [
       "array([3, 7])"
      ]
     },
     "execution_count": 19,
     "metadata": {},
     "output_type": "execute_result"
    }
   ],
   "source": [
    "print(array_mult[0][3])\n",
    "array_mult[0,3] #primera posicion es  de la fila y el segundo corresponde a la posicion de la columna, basado en una matriz.\n",
    "\n",
    "#acceder a la segunda fila del array\n",
    "array_mult[1,:]\n",
    "\n",
    "\n",
    "#acceder  al tercer elemento de las dos primeras filas del array\n",
    "array_mult[0:2,2]"
   ]
  },
  {
   "cell_type": "code",
   "execution_count": 42,
   "metadata": {},
   "outputs": [
    {
     "name": "stdout",
     "output_type": "stream",
     "text": [
      "(28,)\n"
     ]
    },
    {
     "data": {
      "text/plain": [
       "array([ 0,  1,  2,  3,  4,  5,  6,  7,  8,  9, 10, 11, 12, 13, 14, 15, 16,\n",
       "       17, 18, 19, 20, 21, 22, 23, 24, 25, 26, 27])"
      ]
     },
     "execution_count": 42,
     "metadata": {},
     "output_type": "execute_result"
    }
   ],
   "source": [
    "#crear un array unidimensional con elementos del 0-27\n",
    "\n",
    "array1 = np.arange(0,28)\n",
    "print(array1.shape)\n",
    "array1\n",
    "\n",
    "\n"
   ]
  },
  {
   "cell_type": "code",
   "execution_count": 71,
   "metadata": {},
   "outputs": [
    {
     "name": "stdout",
     "output_type": "stream",
     "text": [
      "(28,)\n"
     ]
    }
   ],
   "source": [
    "#modificar array\n",
    "array1.reshape(4,7)\n",
    "print(array1.shape)\n",
    "\n"
   ]
  },
  {
   "cell_type": "code",
   "execution_count": 62,
   "metadata": {},
   "outputs": [
    {
     "name": "stdout",
     "output_type": "stream",
     "text": [
      "(4, 7)\n"
     ]
    },
    {
     "data": {
      "text/plain": [
       "array([[ 0,  1,  2,  3,  4,  5,  6],\n",
       "       [ 7,  8,  9, 10, 11, 12, 13],\n",
       "       [14, 15, 16, 17, 18, 19, 20],\n",
       "       [21, 22, 23, 24, 25, 26, 27]])"
      ]
     },
     "execution_count": 62,
     "metadata": {},
     "output_type": "execute_result"
    }
   ],
   "source": [
    "array2 = array1.reshape(4,7)\n",
    "print(array2.shape)\n",
    "array2\n"
   ]
  },
  {
   "cell_type": "code",
   "execution_count": 70,
   "metadata": {},
   "outputs": [
    {
     "data": {
      "text/plain": [
       "array([[ 0,  1,  2, 20,  4,  5,  6],\n",
       "       [ 7,  8,  9, 10, 11, 12, 13],\n",
       "       [14, 15, 16, 17, 18, 19, 20],\n",
       "       [21, 22, 23, 24, 25, 26, 27]])"
      ]
     },
     "execution_count": 70,
     "metadata": {},
     "output_type": "execute_result"
    }
   ],
   "source": [
    "#modificando el array 2, podemos modfiicar e valor de un elemtno del arreglo con los posicionamientos\n",
    "\n",
    "array2[0,3] = 20\n",
    "array2"
   ]
  },
  {
   "cell_type": "code",
   "execution_count": 79,
   "metadata": {},
   "outputs": [
    {
     "name": "stdout",
     "output_type": "stream",
     "text": [
      "array1 [ 2  4  6  8 10 12 14 16]\n",
      "array2 [0 1 2 3 4 5 6 7]\n",
      "suma [ 2  5  8 11 14 17 20 23]\n",
      "resta:  [2 3 4 5 6 7 8 9]\n",
      "multiplicacion:  [  0   4  12  24  40  60  84 112]\n"
     ]
    }
   ],
   "source": [
    "#creacion de ds array unidimensionales\n",
    "\n",
    "array1 = np.arange(2,18,2)\n",
    "array2 = np.arange(8)\n",
    "print('array1',array1)\n",
    "print('array2',array2)\n",
    "#suma el primer elemento del array1 con el 1er elemento del array 2 y asi sucecivamente \n",
    "print('suma',array1+array2)\n",
    "#resta, del mismo modo\n",
    "print('resta: ',array1-array2)\n",
    "#multiplicacion\n",
    "print('multiplicacion: ',array1*array2)\n"
   ]
  },
  {
   "cell_type": "code",
   "execution_count": 83,
   "metadata": {},
   "outputs": [
    {
     "name": "stdout",
     "output_type": "stream",
     "text": [
      "A1 shape:  (5,)\n",
      "A2 shape:  (1,)\n",
      "A1:  [0 1 2 3 4]\n",
      "A2:  [3]\n",
      "suma:  [3 4 5 6 7]\n",
      "resta:  [-3 -2 -1  0  1]\n"
     ]
    }
   ],
   "source": [
    "#BROADCASTING\n",
    "\n",
    "#Creando arrays\n",
    "array1 = np.arange(5)\n",
    "array2 = np.array([3])\n",
    "print('A1 shape: ',array1.shape)\n",
    "print('A2 shape: ',array2.shape)\n",
    "\n",
    "print('A1: ',array1)\n",
    "print('A2: ',array2)\n",
    "\n",
    "\n",
    "print('suma: ',array1+array2)\n",
    "print('resta: ',array1-array2)\n"
   ]
  },
  {
   "cell_type": "code",
   "execution_count": 97,
   "metadata": {},
   "outputs": [
    {
     "name": "stdout",
     "output_type": "stream",
     "text": [
      "A1 shape:  (2, 3)\n",
      "A1:  [[0 1 2]\n",
      " [3 4 5]]\n",
      "A2 shape:  (3,)\n",
      "A2:  [ 6 10 14]\n",
      "SUMA:  [[ 6 11 16]\n",
      " [ 9 14 19]]\n"
     ]
    }
   ],
   "source": [
    "#CREAR UN ARRAY UNIDIMENSIONA Y 1 MULTIDIMENSIONAL\n",
    "\n",
    "array1 = np.arange(6)\n",
    "array1.shape = (2,3)\n",
    "\n",
    "\n",
    "\n",
    "array2 = np.arange(6,18,4)\n",
    "\n",
    "print('A1 shape: ',array1.shape)\n",
    "print('A1: ',array1)\n",
    "\n",
    "\n",
    "print('A2 shape: ',array2.shape)\n",
    "print('A2: ',array2)\n",
    "\n",
    "\n",
    "print('SUMA: ',array1+array2)\n",
    "\n"
   ]
  },
  {
   "cell_type": "code",
   "execution_count": 103,
   "metadata": {},
   "outputs": [
    {
     "name": "stdout",
     "output_type": "stream",
     "text": [
      "A1:  [ 1  3  5  7  9 11 13 15 17 19]\n"
     ]
    },
    {
     "data": {
      "text/plain": [
       "19"
      ]
     },
     "execution_count": 103,
     "metadata": {},
     "output_type": "execute_result"
    }
   ],
   "source": [
    "#FUNCIONES ESTADISTICAS\n",
    "\n",
    "\n",
    "#Crear un array unidmensial\n",
    "\n",
    "array1 = np.arange(1,20,2)\n",
    "print('A1: ',array1)\n",
    "\n",
    "#operaciones artimetica \n",
    "array1.mean() #media\n",
    "array1.sum() #suma\n",
    "array1.min() #min\n",
    "array1.max() #max\n",
    "\n",
    "#Funciones universales por numpy : ufunc\n",
    "\n",
    "np.square(array1) #cuadrado de un array\n",
    "\n",
    "np.exp(array1) #exponecial de un array \n",
    "\n",
    "\n"
   ]
  },
  {
   "cell_type": "code",
   "execution_count": null,
   "metadata": {},
   "outputs": [],
   "source": []
  }
 ],
 "metadata": {
  "kernelspec": {
   "display_name": "Python 3",
   "language": "python",
   "name": "python3"
  },
  "language_info": {
   "codemirror_mode": {
    "name": "ipython",
    "version": 3
   },
   "file_extension": ".py",
   "mimetype": "text/x-python",
   "name": "python",
   "nbconvert_exporter": "python",
   "pygments_lexer": "ipython3",
   "version": "3.12.2"
  }
 },
 "nbformat": 4,
 "nbformat_minor": 2
}
